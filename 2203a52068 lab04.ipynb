{
 "cells": [
  {
   "cell_type": "code",
   "execution_count": 1,
   "metadata": {},
   "outputs": [
    {
     "name": "stdout",
     "output_type": "stream",
     "text": [
      "The optimal value is : 4\n"
     ]
    }
   ],
   "source": [
    "def minmax(depth, node_index, maximizing_player, values):\n",
    "    if depth == 3:\n",
    "        return values[node_index]\n",
    "\n",
    "    if maximizing_player:\n",
    "        return max(minmax(depth + 1, node_index * 2, False, values),\n",
    "                   minmax(depth + 1, node_index * 2 + 1, False, values))\n",
    "    else:\n",
    "        return min(minmax(depth + 1, node_index * 2, True, values),\n",
    "                   minmax(depth + 1, node_index * 2 + 1, True, values))\n",
    "\n",
    "values = [-1 ,4 ,2 ,6 ,-3 ,-5 ,0 ,7]\n",
    "print(\"The optimal value is :\", minmax(0 ,0 ,True ,values))"
   ]
  },
  {
   "cell_type": "code",
   "execution_count": 2,
   "metadata": {},
   "outputs": [
    {
     "name": "stdout",
     "output_type": "stream",
     "text": [
      "optimal value= 4\n",
      "corresponding action index = 2\n"
     ]
    }
   ],
   "source": [
    "\n",
    "def minimax_alpha_beta(depth, node_index, maximizing_player, values, alpha=-float(\"inf\"), beta=float(\"inf\"), plagiarism=False):\n",
    "  \n",
    "\n",
    "  if depth == 3 or plagiarism:\n",
    "    return values[node_index], None\n",
    "\n",
    "  if maximizing_player:\n",
    "    value, _ = None, None\n",
    "    for child_index in range(node_index * 2, node_index * 2 + 2):\n",
    "      child_value, _ = minimax_alpha_beta(depth + 1, child_index, False, values, alpha, beta, plagiarism)\n",
    "      if value is None or child_value > value:\n",
    "        value = child_value\n",
    "      alpha = max(alpha, value)\n",
    "      if beta <= alpha:\n",
    "        break\n",
    "\n",
    "    return value, child_index * 2 + (value == child_value)\n",
    "  else:\n",
    "    value, _ = None, None\n",
    "    for child_index in range(node_index * 2, node_index * 2 + 2):\n",
    "      child_value, _ = minimax_alpha_beta(depth + 1, child_index, True, values, alpha, beta, plagiarism)\n",
    "      if value is None or child_value < value:\n",
    "        value = child_value\n",
    "      beta = min(beta, value)\n",
    "      if beta <= alpha:\n",
    "        break\n",
    "\n",
    "    return value, child_index * 2 + (value == child_value)\n",
    "\n",
    "# Example usage\n",
    "values = [-1, 4, 2, 6, -3, -5, 0, 7]\n",
    "plagiarism = False  # Set to True if plagiarism detected\n",
    "\n",
    "optimal_value, action_index = minimax_alpha_beta(0, 0, True, values, plagiarism)\n",
    "\n",
    "print(\"optimal value=\", optimal_value)\n",
    "print(\"corresponding action index =\", action_index)\n"
   ]
  }
 ],
 "metadata": {
  "kernelspec": {
   "display_name": "Python 3",
   "language": "python",
   "name": "python3"
  },
  "language_info": {
   "codemirror_mode": {
    "name": "ipython",
    "version": 3
   },
   "file_extension": ".py",
   "mimetype": "text/x-python",
   "name": "python",
   "nbconvert_exporter": "python",
   "pygments_lexer": "ipython3",
   "version": "3.10.13"
  }
 },
 "nbformat": 4,
 "nbformat_minor": 2
}

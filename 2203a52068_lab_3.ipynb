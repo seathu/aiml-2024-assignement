{
  "cells": [
    {
      "cell_type": "code",
      "execution_count": 1,
      "metadata": {
        "colab": {
          "base_uri": "https://localhost:8080/"
        },
        "id": "vIUhW8FoyOwn",
        "outputId": "6d684f83-ff12-4efa-c1ef-be80558d646e"
      },
      "outputs": [
        {
          "name": "stdout",
          "output_type": "stream",
          "text": [
            "BFS traversal starting from vertex 0 :\n",
            "0 1 3 2 4 5 "
          ]
        }
      ],
      "source": [
        "from collections import deque\n",
        "\n",
        "def bfs(graph, start):\n",
        "    visited = set()\n",
        "    queue = deque([start])\n",
        "\n",
        "    while queue:\n",
        "        vertex = queue.popleft()\n",
        "\n",
        "        if vertex not in visited:\n",
        "            print(vertex, end=' ' )\n",
        "            visited.add(vertex)\n",
        "\n",
        "\n",
        "            queue.extend(neighbor for neighbor in graph[vertex] if neighbor not in visited)\n",
        "\n",
        "\n",
        "graph = {\n",
        "    0: [1, 3],\n",
        "    1: [0, 2, 3],\n",
        "    2: [1, 4, 5],\n",
        "    3: [0, 1, 4],\n",
        "    4: [2, 3, 5],\n",
        "    5: [2, 4]\n",
        "    }\n",
        "start_vertex = 0\n",
        "\n",
        "print(\"BFS traversal starting from vertex\", start_vertex, \":\")\n",
        "bfs(graph, start_vertex)"
      ]
    },
    {
      "cell_type": "code",
      "execution_count": 2,
      "metadata": {
        "colab": {
          "base_uri": "https://localhost:8080/"
        },
        "id": "2BeqQkLYyjHV",
        "outputId": "004c1520-2d28-4d13-a20d-eceb04a82f33"
      },
      "outputs": [
        {
          "name": "stdout",
          "output_type": "stream",
          "text": [
            "DFS traversal starting from vertex A :\n",
            "A S G H E C F D B "
          ]
        }
      ],
      "source": [
        "def dfs(graph, start):\n",
        "    visited = set()\n",
        "    stack = [start]\n",
        "\n",
        "    while stack:\n",
        "        vertex = stack.pop()\n",
        "\n",
        "        if vertex not in visited:\n",
        "            print(vertex, end=' ')\n",
        "            visited.add(vertex)\n",
        "\n",
        "\n",
        "            stack.extend(neighbor for neighbor in graph[vertex] if neighbor not in visited)\n",
        "graph = {\n",
        "    'A': ['B', 'S'],\n",
        "    'B': ['A'],\n",
        "    'C': ['D', 'E', 'F', 'S'],\n",
        "    'D': ['C'],\n",
        "    'E': ['C', 'H'],\n",
        "    'F': ['C', 'G'],\n",
        "    'G': ['F', 'H', 'S'],\n",
        "    'H': ['E', 'G'],\n",
        "    'S': ['A', 'C', 'G']\n",
        "    }\n",
        "start_vertex = 'A'\n",
        "\n",
        "print(\"DFS traversal starting from vertex\", start_vertex, \":\")\n",
        "dfs(graph, start_vertex)"
      ]
    },
    {
      "cell_type": "code",
      "execution_count": 3,
      "metadata": {
        "id": "cKGT6q1XyoDS"
      },
      "outputs": [],
      "source": [
        "import numpy as np\n",
        "import heapq\n",
        "\n",
        "class Node:\n",
        "    def _init_(self, parent=None, position=None):\n",
        "        self.parent = parent\n",
        "        self.position = position\n",
        "\n",
        "        self.g = 0\n",
        "        self.h = 0\n",
        "        self.f = 0\n",
        "\n",
        "    def _eq_(self, other):\n",
        "        return self.position == other.position\n",
        "\n",
        "def astar(maze, start, end):\n",
        "    # Create start and end node\n",
        "    start_node = Node(None, start)\n",
        "    start_node.g = start_node.h = start_node.f = 0\n",
        "    end_node = Node(None, end)\n",
        "    end_node.g = end_node.h = end_node.f = 0\n",
        "\n",
        "    # Initialize open and closed lists\n",
        "    open_list = []\n",
        "    closed_list = []\n",
        "\n",
        "    # Heapify the open list and add the start node\n",
        "    heapq.heapify(open_list)\n",
        "    heapq.heappush(open_list, start_node)\n",
        "\n",
        "    # Define possible movements (right, left, up, down)\n",
        "    movements = [(0,1), (0,-1), (1,0), (-1,0)]\n",
        "\n",
        "    # Loop until the open list is empty\n",
        "    while len(open_list) > 0:\n",
        "        # Get the current node\n",
        "        current_node = heapq.heappop(open_list)\n",
        "\n",
        "        # Add the current node to the closed list\n",
        "        closed_list.append(current_node)\n",
        "\n",
        "        # If we reached the end node, reconstruct and return the path\n",
        "        if current_node == end_node:\n",
        "            path = []\n",
        "            while current_node is not None:\n",
        "                path.append(current_node.position)\n",
        "                current_node = current_node.parent\n",
        "            return path[::-1]  # Return reversed path\n",
        "\n",
        "        # Generate children nodes\n",
        "        children = []\n",
        "        for new_position in movements:\n",
        "            node_position = (current_node.position[0] + new_position[0], current_node.position[1] + new_position[1])\n",
        "\n",
        "            # Check if the node is within the maze bounds\n",
        "            if node_position[0] > (len(maze) - 1) or node_position[0] < 0 or node_position[1] > (len(maze[len(maze)-1]) -1) or node_position[1] < 0:\n",
        "                continue\n",
        "\n",
        "            # Check if the node is obstructed (i.e., not passable)\n",
        "            if maze[node_position[0]][node_position[1]] != 0:\n",
        "                continue\n",
        "\n",
        "            # Create a new node\n",
        "            new_node = Node(current_node, node_position)\n",
        "\n",
        "            # Append the new node to children list\n",
        "            children.append(new_node)\n",
        "\n",
        "        # Loop through children\n",
        "        for child in children:\n",
        "            # Child is on the closed list\n",
        "            for closed_child in closed_list:\n",
        "                if child == closed_child:\n",
        "                    continue\n",
        "\n",
        "            # Create the f, g, and h values\n",
        "            child.g = current_node.g + 1\n",
        "            child.h = ((child.position[0] - end_node.position[0]) ** 2) + ((child.position[1] - end_node.position[1]) ** 2)\n",
        "            child.f = child.g + child.h\n",
        "\n",
        "            # Child is already in the open list and has a higher f value\n",
        "            for open_node in open_list:\n",
        "                if child == open_node and child.f > open_node.f:\n",
        "                    continue\n",
        "\n",
        "            # Add the child to the open list\n",
        "            heapq.heappush(open_list, child)\n",
        "\n",
        "    # No path found\n",
        "    return None"
      ]
    },
    {
      "cell_type": "code",
      "execution_count": 7,
      "metadata": {
        "id": "ab1szQLt0yvZ"
      },
      "outputs": [],
      "source": []
    }
  ],
  "metadata": {
    "colab": {
      "provenance": []
    },
    "kernelspec": {
      "display_name": "Python 3",
      "name": "python3"
    },
    "language_info": {
      "name": "python"
    }
  },
  "nbformat": 4,
  "nbformat_minor": 0
}
